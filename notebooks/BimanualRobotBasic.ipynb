{
 "cells": [
  {
   "cell_type": "code",
   "execution_count": 1,
   "metadata": {
    "collapsed": false
   },
   "outputs": [
    {
     "name": "stdout",
     "output_type": "stream",
     "text": [
      "-------------------------------------------------\n",
      "Created Exp Bimanual Setup  Debug:  False\n",
      "Created Left Lateralized Arm Lims:  [-1.26, -2.73, -2.73] [1.26, 0.0, 0.63]\n",
      "Created Right Lateralized Arm Lims:  [-1.26, 0.0, -0.63] [1.26, 2.73, 2.73]\n"
     ]
    }
   ],
   "source": [
    "from mynotebooks import *\n",
    "%matplotlib inline  \n",
    "from ExpRobotSetup import ExpSetupNao\n",
    "exp = ExpSetupNao(pos_nao=(0,0),pos_obj=(0,2),obj_type=\"box\",salientMode='minimum',name='human')"
   ]
  },
  {
   "cell_type": "code",
   "execution_count": 2,
   "metadata": {
    "collapsed": false
   },
   "outputs": [
    {
     "data": {
      "image/png": "[encoded data removed]",
      "text/plain": [
       "<matplotlib.figure.Figure at 0x11468e1d0>"
      ]
     },
     "metadata": {},
     "output_type": "display_data"
    }
   ],
   "source": [
    "fig, ax = VectorFigUtils.makeFigure(axes=[-4,4,-1.5,5.5])\n",
    "Box2DWorld.plotWorld(ax,nao=exp.nao)\n",
    "plt.show()"
   ]
  }
 ],
 "metadata": {
  "kernelspec": {
   "display_name": "Python 2",
   "language": "python",
   "name": "python2"
  },
  "language_info": {
   "codemirror_mode": {
    "name": "ipython",
    "version": 2
   },
   "file_extension": ".py",
   "mimetype": "text/x-python",
   "name": "python",
   "nbconvert_exporter": "python",
   "pygments_lexer": "ipython2",
   "version": "2.7.12"
  }
 },
 "nbformat": 4,
 "nbformat_minor": 0
}
