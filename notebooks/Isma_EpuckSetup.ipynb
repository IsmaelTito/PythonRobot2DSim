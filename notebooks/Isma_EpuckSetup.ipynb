{
 "cells": [
  {
   "cell_type": "code",
   "execution_count": 1,
   "metadata": {
    "collapsed": false
   },
   "outputs": [
    {
     "name": "stdout",
     "output_type": "stream",
     "text": [
      "-------------------------------------------------\n",
      "Dyad ID: game_fzsowqi5-ji5x-rl5o-mscf-cffteh55uh0r\n",
      "Payoff Condition: high\n",
      "STARTING ROUND... 1\n"
     ]
    }
   ],
   "source": [
    "from mynotebooks import *\n",
    "%matplotlib inline\n",
    "sys.path.append('..')  \n",
    "from isma_expsetup import *"
   ]
  },
  {
   "cell_type": "code",
   "execution_count": null,
   "metadata": {
    "collapsed": true
   },
   "outputs": [],
   "source": [
    "exp = IsmaExpSetup(n=2, rounds=10, payoff=\"high\", debug=True)"
   ]
  },
  {
   "cell_type": "code",
   "execution_count": 2,
   "metadata": {
    "collapsed": false
   },
   "outputs": [
    {
     "name": "stdout",
     "output_type": "stream",
     "text": [
      "Player 1 obtained the HIGH Reward !!\n",
      "Total Score - Player 1: 4 , Player 2: 1\n",
      "-------------------------------------------------\n",
      "STARTING ROUND... 2\n",
      "Player 2 obtained the HIGH Reward !!\n",
      "Total Score - Player 1: 5 , Player 2: 5\n",
      "-------------------------------------------------\n",
      "STARTING ROUND... 3\n",
      "Player 1 obtained the HIGH Reward !!\n",
      "Total Score - Player 1: 9 , Player 2: 6\n",
      "-------------------------------------------------\n",
      "STARTING ROUND... 4\n",
      "Player 2 obtained the HIGH Reward !!\n",
      "Total Score - Player 1: 10 , Player 2: 10\n",
      "-------------------------------------------------\n",
      "STARTING ROUND... 5\n",
      "Player 1 obtained the HIGH Reward !!\n",
      "Total Score - Player 1: 14 , Player 2: 11\n",
      "-------------------------------------------------\n",
      "STARTING ROUND... 6\n",
      "Player 1 obtained the LOW Reward !!\n",
      "Total Score - Player 1: 15 , Player 2: 15\n",
      "-------------------------------------------------\n",
      "STARTING ROUND... 7\n",
      "Player 1 obtained the HIGH Reward !!\n",
      "Total Score - Player 1: 19 , Player 2: 16\n",
      "-------------------------------------------------\n",
      "STARTING ROUND... 8\n",
      "Player 2 obtained the HIGH Reward !!\n",
      "Total Score - Player 1: 20 , Player 2: 20\n",
      "-------------------------------------------------\n",
      "STARTING ROUND... 9\n",
      "Player 2 obtained the LOW Reward !!\n",
      "Total Score - Player 1: 24 , Player 2: 21\n",
      "-------------------------------------------------\n",
      "STARTING ROUND... 10\n",
      "Player 2 obtained the HIGH Reward !!\n",
      "Total Score - Player 1: 25 , Player 2: 25\n",
      "-------------------------------------------------\n",
      "STARTING ROUND... 11\n"
     ]
    }
   ],
   "source": [
    "while (exp.round_n <= exp.total_rounds):\n",
    "    Box2DWorld.step()\n",
    "    exp.update() "
   ]
  },
  {
   "cell_type": "code",
   "execution_count": 3,
   "metadata": {
    "collapsed": false
   },
   "outputs": [
    {
     "name": "stdout",
     "output_type": "stream",
     "text": [
      "-------------------------------------------------\n",
      "Dyad ID: game_87nre58p-m012-bepy-jzuf-0x2owewfq358\n",
      "Payoff Condition: high\n",
      "STARTING ROUND... 1\n",
      "Player 1 obtained the HIGH Reward !!\n",
      "Total Score - Player 1: 4 , Player 2: 1\n",
      "-------------------------------------------------\n",
      "STARTING ROUND... 2\n",
      "Player 2 obtained the LOW Reward !!\n",
      "Total Score - Player 1: 8 , Player 2: 2\n",
      "-------------------------------------------------\n",
      "STARTING ROUND... 3\n",
      "-------------------------------------------------\n",
      "Dyad ID: game_zn1qu33p-yf5r-1jjn-79un-vybjqtueqnul\n",
      "Payoff Condition: high\n",
      "STARTING ROUND... 1\n",
      "Player 1 obtained the HIGH Reward !!\n",
      "Total Score - Player 1: 4 , Player 2: 1\n",
      "-------------------------------------------------\n",
      "STARTING ROUND... 2\n",
      "Player 1 obtained the HIGH Reward !!\n",
      "Total Score - Player 1: 8 , Player 2: 2\n",
      "-------------------------------------------------\n",
      "STARTING ROUND... 3\n",
      "-------------------------------------------------\n",
      "Dyad ID: game_2es6xbzg-ggu1-caof-qwl3-fxlg0ydo2ulh\n",
      "Payoff Condition: high\n",
      "STARTING ROUND... 1\n",
      "Player 1 obtained the HIGH Reward !!\n",
      "Total Score - Player 1: 4 , Player 2: 1\n",
      "-------------------------------------------------\n",
      "STARTING ROUND... 2\n",
      "Player 1 obtained the HIGH Reward !!\n",
      "Total Score - Player 1: 8 , Player 2: 2\n",
      "-------------------------------------------------\n",
      "STARTING ROUND... 3\n"
     ]
    }
   ],
   "source": [
    "for i in range(3): \n",
    "    i = IsmaExpSetup(n=2, rounds=2, payoff=\"high\", debug=True)\n",
    "    while (i.round_n <= i.total_rounds):\n",
    "        Box2DWorld.step()\n",
    "        i.update() "
   ]
  },
  {
   "cell_type": "code",
   "execution_count": null,
   "metadata": {
    "collapsed": true
   },
   "outputs": [],
   "source": []
  }
 ],
 "metadata": {
  "anaconda-cloud": {},
  "kernelspec": {
   "display_name": "Python [conda env:python2]",
   "language": "python",
   "name": "conda-env-python2-py"
  },
  "language_info": {
   "codemirror_mode": {
    "name": "ipython",
    "version": 2
   },
   "file_extension": ".py",
   "mimetype": "text/x-python",
   "name": "python",
   "nbconvert_exporter": "python",
   "pygments_lexer": "ipython2",
   "version": "2.7.12"
  }
 },
 "nbformat": 4,
 "nbformat_minor": 0
}
