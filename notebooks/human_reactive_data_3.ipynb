{
 "cells": [
  {
   "cell_type": "code",
   "execution_count": 1,
   "metadata": {
    "collapsed": false
   },
   "outputs": [
    {
     "name": "stdout",
     "output_type": "stream",
     "text": [
      "Populating the interactive namespace from numpy and matplotlib\n"
     ]
    }
   ],
   "source": [
    "import math\n",
    "import numpy as np\n",
    "import os\n",
    "from collections import defaultdict\n",
    "import scipy.stats as stats\n",
    "import matplotlib.pyplot as plt\n",
    "import random as nd\n",
    "import csv\n",
    "%pylab inline\n",
    "%load_ext autoreload\n",
    "%autoreload 2"
   ]
  },
  {
   "cell_type": "code",
   "execution_count": 2,
   "metadata": {
    "collapsed": true
   },
   "outputs": [],
   "source": [
    "class Data :\n",
    "    def __init__(self, inputfile) :\n",
    "        self.data = self.construct_array(inputfile)\n",
    "        self.num_games = self.data[-1][0]\n",
    "\n",
    "    def construct_array (self, inputfile) :\n",
    "        data = open(inputfile, 'r')\n",
    "        ndtype = [('game-number', 'int'),\n",
    "                  ('clock', 'int'),\n",
    "                  ('high-payoff-location', 'a10'),\n",
    "                  ('player', 'a5'),\n",
    "                  ('xcor', 'f8'),\n",
    "                  ('ycor', 'f8'),\n",
    "                  ('heading', 'f8'),\n",
    "                  ('points-earned', 'int'),\n",
    "                  ('noise', 'f8')]\n",
    "        strucArray = genfromtxt(data, dtype = ndtype, delimiter = ',')\n",
    "        return strucArray\n",
    "\n",
    "    def get_data (self) :\n",
    "        return self.data"
   ]
  },
  {
   "cell_type": "code",
   "execution_count": 3,
   "metadata": {
    "collapsed": true
   },
   "outputs": [],
   "source": [
    "def get_game_data (data, game_number) :\n",
    "    b = data['gamenumber'] == game_number\n",
    "    return data[b]"
   ]
  },
  {
   "cell_type": "code",
   "execution_count": 4,
   "metadata": {
    "collapsed": false
   },
   "outputs": [],
   "source": [
    "import string\n",
    "def id_generator(length=8, chars=string.ascii_lowercase + string.digits):\n",
    "    return ''.join(nd.choice(chars) for i in range(length))"
   ]
  },
  {
   "cell_type": "code",
   "execution_count": 5,
   "metadata": {
    "collapsed": false
   },
   "outputs": [
    {
     "name": "stdout",
     "output_type": "stream",
     "text": [
      "3\n"
     ]
    }
   ],
   "source": [
    "print(nd.randint(1,5))"
   ]
  },
  {
   "cell_type": "markdown",
   "metadata": {},
   "source": [
    "# NEW CODE"
   ]
  },
  {
   "cell_type": "code",
   "execution_count": 6,
   "metadata": {
    "collapsed": true
   },
   "outputs": [],
   "source": [
    "def get_big_list(conflict_level, who, cond) :\n",
    "    max_num_games = 50 if conflict_level == 'high' else 60\n",
    "    round_n = 0\n",
    "    big_list = []\n",
    "    for r,d,f in os.walk('../data/{0}_{1}_{2}/completed'.format(conflict_level, who, cond)):\n",
    "        for files in f:\n",
    "            if files.startswith('game_'):\n",
    "                #file_name = files\n",
    "                destination = r + '/' + files\n",
    "                d = Data(destination).get_data()\n",
    "                round_n += 1\n",
    "                g = get_game_data(d,1)\n",
    "                length = g.shape[0]\n",
    "                for j in range(length):\n",
    "                    onerow = g[j]\n",
    "                    onerow[0] = round_n  \n",
    "                    #print onerow[0]                      \n",
    "                    big_list.append(onerow)\n",
    "\n",
    "    with open('BIGLIST_reactive.csv', 'wb') as myfile:\n",
    "        writer = csv.writer(myfile)\n",
    "        writer.writerows(big_list)"
   ]
  },
  {
   "cell_type": "code",
   "execution_count": 7,
   "metadata": {
    "collapsed": true
   },
   "outputs": [],
   "source": [
    "get_big_list(\"high\", \"human\", \"dynamic\")"
   ]
  },
  {
   "cell_type": "code",
   "execution_count": 8,
   "metadata": {
    "collapsed": true
   },
   "outputs": [],
   "source": [
    "def get_human_reactive(conflict_level) :\n",
    "    max_num_games = 50 if conflict_level == 'high' else 60\n",
    "    file_name = \"game_\"+id_generator(8)+\"-\"+id_generator(4)+\"-\"+id_generator(4)+\"-\"+id_generator(4)+\"-\"+id_generator(12)+\".csv\"\n",
    "    round_n = 0\n",
    "    prev_blue = 0\n",
    "    prev_red = 0\n",
    "    ts = []\n",
    "    for r,d,f in os.walk('./reactive_csv_test'):\n",
    "        for files in f:\n",
    "            if files.startswith('BIGLIST_'):\n",
    "                #file_name = files\n",
    "                destination = r + '/' + files\n",
    "                d = Data(destination).get_data()\n",
    "                for i in range(max_num_games):\n",
    "                #if (round2_n <= max_num_games):\n",
    "                    round_n += 1\n",
    "                    biglist_game_n = d[-1][0]\n",
    "                    rnd = nd.randint(1,biglist_game_n)\n",
    "                    g = get_game_data(d,rnd)\n",
    "                    length = g.shape[0]\n",
    "                    #print g\n",
    "                    # guarda el score real (no el acumulado) obtenido esta ronda\n",
    "                    blue_rscore = g[-2][7] - g[0][7]\n",
    "                    red_rscore = g[-1][7]- g[1][7]                    \n",
    "                    #print \"bluescore\", g[-2][7] - g[0][7]\n",
    "                    #print \"redscore\", g[-1][7]- g[1][7]\n",
    "                    # recorre la ronda e iguala los todos los scores al valor de la ronda anterior\n",
    "                    for j in range(length):\n",
    "                        if g[j][3] == 'host': g[j][7] = prev_blue\n",
    "                        elif g[j][3] == 'other': g[j][7] = prev_red\n",
    "                    # cambia sólo el último valor de cada jugador por el valor obtenido en ésa ronda\n",
    "                    g[-2][7] += blue_rscore\n",
    "                    g[-1][7] += red_rscore\n",
    "                    # actualiza el score acumulado para la siguiente ronda\n",
    "                    prev_blue += blue_rscore\n",
    "                    prev_red += red_rscore\n",
    "                    #print g\n",
    "                    for j in range(length):\n",
    "                        onerow = g[j]\n",
    "                        onerow[0] = round_n  \n",
    "                        #print onerow[0]                      \n",
    "                        ts.append(onerow)\n",
    "            if file_name.endswith('.csv'):\n",
    "                file_name = file_name[:-4]\n",
    "                with open(file_name+'_reactive.csv', 'wb') as myfile:\n",
    "                    writer = csv.writer(myfile)\n",
    "                    writer.writerows(ts)"
   ]
  },
  {
   "cell_type": "code",
   "execution_count": 9,
   "metadata": {
    "collapsed": false
   },
   "outputs": [],
   "source": [
    "get_human_reactive(\"high\")"
   ]
  },
  {
   "cell_type": "code",
   "execution_count": 10,
   "metadata": {
    "collapsed": false
   },
   "outputs": [],
   "source": [
    "for i in range(56):\n",
    "    get_human_reactive(\"high\")"
   ]
  },
  {
   "cell_type": "code",
   "execution_count": null,
   "metadata": {
    "collapsed": true
   },
   "outputs": [],
   "source": []
  }
 ],
 "metadata": {
  "anaconda-cloud": {},
  "kernelspec": {
   "display_name": "Python 2",
   "language": "python",
   "name": "python2"
  },
  "language_info": {
   "codemirror_mode": {
    "name": "ipython",
    "version": 2
   },
   "file_extension": ".py",
   "mimetype": "text/x-python",
   "name": "python",
   "nbconvert_exporter": "python",
   "pygments_lexer": "ipython2",
   "version": "2.7.13"
  }
 },
 "nbformat": 4,
 "nbformat_minor": 1
}
