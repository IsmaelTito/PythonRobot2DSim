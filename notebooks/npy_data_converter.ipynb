{
 "cells": [
  {
   "cell_type": "code",
   "execution_count": null,
   "metadata": {
    "collapsed": false
   },
   "outputs": [],
   "source": [
    "import math\n",
    "import numpy as np\n",
    "import os\n",
    "from collections import defaultdict\n",
    "import scipy.stats as stats\n",
    "import matplotlib.pyplot as plt\n",
    "import random as nd\n",
    "%pylab inline\n",
    "%load_ext autoreload\n",
    "%autoreload 2"
   ]
  },
  {
   "cell_type": "code",
   "execution_count": null,
   "metadata": {
    "collapsed": true
   },
   "outputs": [],
   "source": [
    "class Data :\n",
    "    def __init__(self, inputfile) :\n",
    "        self.data = self.construct_array(inputfile)\n",
    "        self.num_games = self.data[-1][0]\n",
    "\n",
    "    def construct_array (self, inputfile) :\n",
    "        data = open(inputfile, 'r')\n",
    "        ndtype = [('game-number', 'int'),\n",
    "                  ('clock', 'int'),\n",
    "                  ('high-payoff-location', 'a10'),\n",
    "                  ('player', 'a5'),\n",
    "                  ('xcor', 'f8'),\n",
    "                  ('ycor', 'f8'),\n",
    "                  ('heading', 'f8'),\n",
    "                  ('points-earned', 'int'),\n",
    "                  ('noise', 'f8')]\n",
    "        strucArray = genfromtxt(data, dtype = ndtype, delimiter = ',')\n",
    "        return strucArray\n",
    "\n",
    "    def get_data (self) :\n",
    "        return self.data"
   ]
  },
  {
   "cell_type": "code",
   "execution_count": null,
   "metadata": {
    "collapsed": true
   },
   "outputs": [],
   "source": [
    "def get_blue_data (data) :\n",
    "    b = data['player'] == 'host'\n",
    "    return data[b]\n",
    "\n",
    "def get_red_data (data) :\n",
    "    b = data['player'] == 'other'\n",
    "    return data[b]\n",
    "\n",
    "def get_game_data (data, game_number) :\n",
    "    b = data['gamenumber'] == game_number\n",
    "    return data[b]"
   ]
  },
  {
   "cell_type": "code",
   "execution_count": null,
   "metadata": {
    "collapsed": true
   },
   "outputs": [],
   "source": [
    "def get_outcome_seq(conflict_level, cond) :\n",
    "    max_points = 4 if conflict_level == 'high' else 2\n",
    "    #big_list = []\n",
    "    for r,d,f in os.walk('./{0}_conflict_{1}/completed'.format(conflict_level,cond)):\n",
    "        for files in f:\n",
    "            if files.startswith('game_'):\n",
    "                ts = []\n",
    "                destination = r + '/' + files\n",
    "                d = Data(destination).get_data()\n",
    "                num_games = d[-1][0]\n",
    "                red_data, blue_data = get_red_data(d), get_blue_data(d)\n",
    "                red_points, blue_points = 0, 0                                                                                  \n",
    "                for i in range(1,num_games+1) :\n",
    "                    g = get_game_data(d,i)\n",
    "                    # REMINDER: red is the second player and blue the first\n",
    "                    if get_red_data(g)[0][-2] == get_red_data(g)[-1][-2] - max_points :\n",
    "                        ts.append([1, max_points])\n",
    "                    elif get_blue_data(g)[0][-2] == get_blue_data(g)[-1][-2] - max_points :\n",
    "                        ts.append([max_points, 1])\n",
    "                    else :\n",
    "                        ts.append([0, 0])\n",
    "                if files.endswith('.csv'):\n",
    "                    files = files[:-4]\n",
    "                    np.save(files + '_converted', ts)"
   ]
  },
  {
   "cell_type": "code",
   "execution_count": null,
   "metadata": {
    "collapsed": false
   },
   "outputs": [],
   "source": [
    "# get_outcome_seq(\"high\", \"ballistic\")\n",
    "get_outcome_seq(\"low\", \"ballistic\")"
   ]
  },
  {
   "cell_type": "code",
   "execution_count": null,
   "metadata": {
    "collapsed": false
   },
   "outputs": [],
   "source": [
    "np.load('game_1thglxb5-qktg-7u2t-v0ff-w36bmgfq6t0v-converted.npy')"
   ]
  },
  {
   "cell_type": "code",
   "execution_count": null,
   "metadata": {
    "collapsed": true
   },
   "outputs": [],
   "source": []
  }
 ],
 "metadata": {
  "kernelspec": {
   "display_name": "Python [conda env:python2]",
   "language": "python",
   "name": "conda-env-python2-py"
  },
  "language_info": {
   "codemirror_mode": {
    "name": "ipython",
    "version": 2
   },
   "file_extension": ".py",
   "mimetype": "text/x-python",
   "name": "python",
   "nbconvert_exporter": "python",
   "pygments_lexer": "ipython2",
   "version": "2.7.13"
  }
 },
 "nbformat": 4,
 "nbformat_minor": 1
}
