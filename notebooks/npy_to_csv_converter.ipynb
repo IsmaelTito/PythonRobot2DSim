{
 "cells": [
  {
   "cell_type": "code",
   "execution_count": 1,
   "metadata": {
    "collapsed": false
   },
   "outputs": [
    {
     "name": "stdout",
     "output_type": "stream",
     "text": [
      "Populating the interactive namespace from numpy and matplotlib\n"
     ]
    }
   ],
   "source": [
    "import math\n",
    "import numpy as np\n",
    "import os\n",
    "from collections import defaultdict\n",
    "import scipy.stats as stats\n",
    "import matplotlib.pyplot as plt\n",
    "import random as nd\n",
    "import csv\n",
    "%pylab inline\n",
    "%load_ext autoreload\n",
    "%autoreload 2"
   ]
  },
  {
   "cell_type": "code",
   "execution_count": 2,
   "metadata": {
    "collapsed": true
   },
   "outputs": [],
   "source": [
    "import string\n",
    "def id_generator(length=8, chars=string.ascii_lowercase + string.digits):\n",
    "    return ''.join(nd.choice(chars) for i in range(length))"
   ]
  },
  {
   "cell_type": "code",
   "execution_count": 3,
   "metadata": {
    "collapsed": true
   },
   "outputs": [],
   "source": [
    "def convert_to_csv(conflict_level, who, cond) :\n",
    "    # max_points = 4 if conflict_level == 'high' else 2\n",
    "    file_name = \"game_\"+id_generator(8)+\"-\"+id_generator(4)+\"-\"+id_generator(4)+\"-\"+id_generator(4)+\"-\"+id_generator(12)+\".csv\"\n",
    "    round_n = 0\n",
    "    blue_score = 0\n",
    "    red_score = 0\n",
    "    for r,d,f in os.walk('../data/npys/npys_{0}_{1}_{2}'.format(conflict_level, who, cond)):\n",
    "        for files in f:\n",
    "            round_n = 0\n",
    "            blue_score = 0\n",
    "            red_score = 0\n",
    "            if files.startswith('game_'):\n",
    "                dyad = []\n",
    "                destination = r + '/' + files\n",
    "                d = np.load(destination)\n",
    "                length = d.shape[0]\n",
    "                for i in range(length):\n",
    "                    round_n += 1\n",
    "                    player1_data = [round_n, 1, \"top\", \"host\", 190, 240, 90, blue_score, 0]\n",
    "                    player2_data = [round_n, 1, \"top\", \"other\", 530, 240, 270, red_score, 0]\n",
    "                    dyad.append(player1_data)\n",
    "                    dyad.append(player2_data)\n",
    "                    blue_score += int(d[i][0])\n",
    "                    red_score += int(d[i][1])\n",
    "                    player1_data = [round_n, 2, \"top\", \"host\", 190, 240, 90, blue_score, 0]\n",
    "                    player2_data = [round_n, 2, \"top\", \"other\", 530, 240, 270, red_score, 0]\n",
    "                    dyad.append(player1_data)\n",
    "                    dyad.append(player2_data)\n",
    "                #num_games = d[-1][0]\n",
    "                if files.endswith('.npy'):\n",
    "                    files = files[:-4]\n",
    "                    with open(files+'_contextual.csv', 'wb') as myfile:\n",
    "                        writer = csv.writer(myfile)\n",
    "                        writer.writerows(dyad)\n",
    "    #print d[0][1]\n",
    "    #print d.shape[0]"
   ]
  },
  {
   "cell_type": "code",
   "execution_count": 5,
   "metadata": {
    "collapsed": false
   },
   "outputs": [],
   "source": [
    "convert_to_csv(\"high\", \"model\", \"ballistic\")\n",
    "#convert_to_csv(\"low\", \"model\", \"ballistic\")"
   ]
  },
  {
   "cell_type": "code",
   "execution_count": null,
   "metadata": {
    "collapsed": false
   },
   "outputs": [],
   "source": [
    "np.load('game_1thglxb5-qktg-7u2t-v0ff-w36bmgfq6t0v-converted.npy')"
   ]
  },
  {
   "cell_type": "code",
   "execution_count": null,
   "metadata": {
    "collapsed": true
   },
   "outputs": [],
   "source": []
  }
 ],
 "metadata": {
  "anaconda-cloud": {},
  "kernelspec": {
   "display_name": "Python [conda env:python2]",
   "language": "python",
   "name": "conda-env-python2-py"
  },
  "language_info": {
   "codemirror_mode": {
    "name": "ipython",
    "version": 2
   },
   "file_extension": ".py",
   "mimetype": "text/x-python",
   "name": "python",
   "nbconvert_exporter": "python",
   "pygments_lexer": "ipython2",
   "version": "2.7.13"
  }
 },
 "nbformat": 4,
 "nbformat_minor": 1
}
