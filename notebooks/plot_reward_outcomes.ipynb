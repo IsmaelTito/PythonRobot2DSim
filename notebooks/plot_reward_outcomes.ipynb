{
 "cells": [
  {
   "cell_type": "code",
   "execution_count": 1,
   "metadata": {
    "collapsed": false
   },
   "outputs": [
    {
     "name": "stdout",
     "output_type": "stream",
     "text": [
      "Populating the interactive namespace from numpy and matplotlib\n"
     ]
    }
   ],
   "source": [
    "import math\n",
    "import numpy as np\n",
    "import os\n",
    "from collections import defaultdict\n",
    "import scipy.stats as stats\n",
    "import matplotlib.pyplot as plt\n",
    "import random as nd\n",
    "%pylab inline\n",
    "%load_ext autoreload\n",
    "%autoreload 2"
   ]
  },
  {
   "cell_type": "code",
   "execution_count": 2,
   "metadata": {
    "collapsed": true
   },
   "outputs": [],
   "source": [
    "class Data :\n",
    "    def __init__(self, inputfile) :\n",
    "        self.data = self.construct_array(inputfile)\n",
    "        self.num_games = self.data[-1][0]\n",
    "\n",
    "    def construct_array (self, inputfile) :\n",
    "        data = open(inputfile, 'r')\n",
    "        ndtype = [('game-number', 'int'),\n",
    "                  ('clock', 'int'),\n",
    "                  ('high-payoff-location', 'a10'),\n",
    "                  ('player', 'a5'),\n",
    "                  ('xcor', 'f8'),\n",
    "                  ('ycor', 'f8'),\n",
    "                  ('heading', 'f8'),\n",
    "                  ('points-earned', 'int'),\n",
    "                  ('noise', 'f8')]\n",
    "        strucArray = genfromtxt(data, dtype = ndtype, delimiter = ',')\n",
    "        return strucArray\n",
    "\n",
    "    def get_data (self) :\n",
    "        return self.data"
   ]
  },
  {
   "cell_type": "code",
   "execution_count": 3,
   "metadata": {
    "collapsed": true
   },
   "outputs": [],
   "source": [
    "def get_blue_data (data) :\n",
    "    b = data['player'] == 'host'\n",
    "    return data[b]\n",
    "\n",
    "def get_red_data (data) :\n",
    "    b = data['player'] == 'other'\n",
    "    return data[b]\n",
    "\n",
    "def get_game_data (data, game_number) :\n",
    "    b = data['gamenumber'] == game_number\n",
    "    return data[b]"
   ]
  },
  {
   "cell_type": "code",
   "execution_count": 4,
   "metadata": {
    "collapsed": true
   },
   "outputs": [],
   "source": [
    "def get_outcome_seq(conflict_level, who, cond) :\n",
    "    max_points = 4 if conflict_level == 'high' else 2\n",
    "    big_list = []\n",
    "    for r,d,f in os.walk('../data/{0}_{1}_{2}/completed'.format(conflict_level, who, cond)):\n",
    "        for files in f:\n",
    "            if files.startswith('game_'):\n",
    "                ts = []\n",
    "                destination = r + '/' + files\n",
    "                d = Data(destination).get_data()\n",
    "                num_games = d[-1][0]\n",
    "                red_data, blue_data = get_red_data(d), get_blue_data(d)\n",
    "                red_points, blue_points = 0, 0                                                                                  \n",
    "                for i in range(1,num_games+1) :\n",
    "                    g = get_game_data(d,i)\n",
    "                    if get_red_data(g)[0][-2] == get_red_data(g)[-1][-2] - max_points :\n",
    "                        ts.append('R')\n",
    "                    elif get_blue_data(g)[0][-2] == get_blue_data(g)[-1][-2] - max_points :\n",
    "                        ts.append('B')\n",
    "                    else :\n",
    "                        ts.append('T')\n",
    "                big_list.append(ts)\n",
    "    return big_list"
   ]
  },
  {
   "cell_type": "code",
   "execution_count": 8,
   "metadata": {
    "collapsed": false
   },
   "outputs": [],
   "source": [
    "h_human_dyn = get_outcome_seq(\"high\", \"human\", \"dynamic\")\n",
    "h_human_rea = get_outcome_seq(\"high\", \"human\", \"reactive\")\n",
    "h_human_bal = get_outcome_seq(\"high\", \"human\", \"ballistic\")\n",
    "l_human_dyn = get_outcome_seq(\"low\", \"human\", \"dynamic\")\n",
    "l_human_rea = get_outcome_seq(\"low\", \"human\", \"reactive\")\n",
    "l_human_bal = get_outcome_seq(\"low\", \"human\", \"ballistic\")"
   ]
  },
  {
   "cell_type": "code",
   "execution_count": 9,
   "metadata": {
    "collapsed": false
   },
   "outputs": [
    {
     "name": "stdout",
     "output_type": "stream",
     "text": [
      "1 vs. 4 human dynamic:\t69\n",
      "1 vs. 4 human reactive:\t57\n",
      "1 vs. 4 human ballistic: 56\n",
      "1 vs. 2 human dynamic:\t46\n",
      "1 vs. 2 human reactive:\t57\n",
      "1 vs. 2 human ballistic: 52\n"
     ]
    }
   ],
   "source": [
    "print \"1 vs. 4 human dynamic:\\t\", len(h_human_dyn)\n",
    "print \"1 vs. 4 human reactive:\\t\", len(h_human_rea)\n",
    "print \"1 vs. 4 human ballistic:\", len(h_human_bal)\n",
    "print \"1 vs. 2 human dynamic:\\t\", len(l_human_dyn)\n",
    "print \"1 vs. 2 human reactive:\\t\", len(l_human_rea)\n",
    "print \"1 vs. 2 human ballistic:\", len(l_human_bal)"
   ]
  },
  {
   "cell_type": "code",
   "execution_count": 5,
   "metadata": {
    "collapsed": true
   },
   "outputs": [],
   "source": [
    "h_model_dyn = get_outcome_seq(\"high\", \"model\", \"dynamic\")\n",
    "#h_model_rea = get_outcome_seq(\"high\", \"model\", \"reactive\")\n",
    "#h_model_bal = get_outcome_seq(\"high\", \"model\", \"ballistic\")\n",
    "#l_model_dyn = get_outcome_seq(\"low\", \"model\", \"dynamic\")\n",
    "#l_model_rea = get_outcome_seq(\"low\", \"model\", \"reactive\")\n",
    "#l_model_bal = get_outcome_seq(\"low\", \"model\", \"ballistic\")"
   ]
  },
  {
   "cell_type": "code",
   "execution_count": 6,
   "metadata": {
    "collapsed": false
   },
   "outputs": [
    {
     "name": "stdout",
     "output_type": "stream",
     "text": [
      "1 vs. 4 model dynamic:\t50\n"
     ]
    }
   ],
   "source": [
    "print \"1 vs. 4 model dynamic:\\t\", len(h_model_dyn)\n",
    "#print \"1 vs. 4 model reactive:\\t\", len(h_model_rea)\n",
    "#print \"1 vs. 4 model ballistic:\", len(h_model_bal)\n",
    "#print \"1 vs. 2 model dynamic:\\t\", len(l_model_dyn)\n",
    "#print \"1 vs. 2 model reactive:\\t\", len(l_model_rea)\n",
    "#print \"1 vs. 2 model ballistic:\", len(l_model_bal)"
   ]
  },
  {
   "cell_type": "markdown",
   "metadata": {},
   "source": [
    "get_surprise_ts first builds up a conditional probability distribution giving the likelihood of observing one outcome given the previous m outcomes. Once we have this distribution, it computes Shannon's surprisal for each round of the game"
   ]
  },
  {
   "cell_type": "code",
   "execution_count": 5,
   "metadata": {
    "collapsed": true
   },
   "outputs": [],
   "source": [
    "def get_surprise_ts (ts, num_back = 2) :\n",
    "    d = defaultdict(lambda: defaultdict(int))\n",
    "    surp = []\n",
    "    # Build conditional distribution\n",
    "    for i in range(len(ts) - num_back - 1) :\n",
    "        substring = ts[i:i+num_back + 1]\n",
    "        d[''.join(substring[:num_back])][substring[-1]] += 1\n",
    "    # Compute surprisal (-log(p)) for each time step\n",
    "    for i in range(len(ts) - num_back - 1) :\n",
    "        substring = ts[i:i+num_back + 1]\n",
    "        relevant_d = d[''.join(substring[:num_back])]\n",
    "        # Add 1/k for virtual counts\n",
    "        surp.append(-np.log2((relevant_d[substring[-1]] + 1/float(3))/float((sum(relevant_d.values()) + 1))))\n",
    "    return surp"
   ]
  },
  {
   "cell_type": "markdown",
   "metadata": {},
   "source": [
    "## S5 Fig"
   ]
  },
  {
   "cell_type": "code",
   "execution_count": 6,
   "metadata": {
    "collapsed": true
   },
   "outputs": [],
   "source": [
    "def plot_sequence (seq, title = \"\") :\n",
    "    new_l1 = [t for t in seq]\n",
    "    for i,s in enumerate(seq):\n",
    "        if s == 'T' :\n",
    "            new_l1[i]='black'\n",
    "        elif s == 'B' :\n",
    "            new_l1[i] = 'blue'\n",
    "        elif s == 'R' :\n",
    "            new_l1[i] = 'red'\n",
    "    plt.bar(range(len(seq)), np.ones(len(seq)), width = 1, color = new_l1)\n",
    "    plt.title(title)\n",
    "    plt.xlabel(\"Game Number\")\n",
    "    frame1 = plt.gca()\n",
    "    frame1.axes.get_yaxis().set_visible(False)\n",
    "    matplotlib.rcParams.update({'font.size': 12})"
   ]
  },
  {
   "cell_type": "markdown",
   "metadata": {},
   "source": [
    "# For all Dyads in a condition"
   ]
  },
  {
   "cell_type": "code",
   "execution_count": 21,
   "metadata": {
    "collapsed": false
   },
   "outputs": [
    {
     "data": {
      "text/plain": [
       "<matplotlib.figure.Figure at 0x9a30eb8>"
      ]
     },
     "metadata": {},
     "output_type": "display_data"
    }
   ],
   "source": [
    "fig = matplotlib.pyplot.gcf()\n",
    "fig.set_size_inches(16, 16)\n",
    "\n",
    "index = 0\n",
    "\n",
    "for i in range (50):\n",
    "    \n",
    "    out_seq = get_outcome_seq(\"high\", \"model\", \"dynamic\")[i]\n",
    "\n",
    "    plt.subplot(321)\n",
    "    plot_sequence(out_seq, title = \"Dyad \"+ str(i+1) + \" outcomes\")\n",
    "    plt.xlim([0, 100])\n",
    "    num_back = 2\n",
    "\n",
    "    matplotlib.rcParams.update({'font.size': 12})\n",
    "    plt.subplot(323)\n",
    "    plot(get_surprise_ts(out_seq))\n",
    "    plt.ylim([0, 3.5])\n",
    "    plt.ylabel(\"Surprisal(bits)\")\n",
    "    plt.xlim([0, 100])\n",
    "    plt.xlabel(\"Rounds\")\n",
    "\n",
    "    plt.subplot(325)\n",
    "    plt.hist(get_surprise_ts(out_seq), range = (0, 3), normed=True)\n",
    "    plt.ylim([0,4])\n",
    "    plt.xlabel(\"Surprisal (bits)\")\n",
    "    plt.ylabel(\"Frequency\")\n",
    "\n",
    "    subplots_adjust(wspace=0.1, hspace=0.25)\n",
    "    plt.savefig(\"../data/figures/Outcomes_Dyad\"+ str(i+1) + \".png\")\n",
    "    plt.gcf().clear()\n"
   ]
  },
  {
   "cell_type": "markdown",
   "metadata": {},
   "source": [
    "# For just one"
   ]
  },
  {
   "cell_type": "code",
   "execution_count": 10,
   "metadata": {
    "collapsed": false
   },
   "outputs": [
    {
     "data": {
      "image/png": "[encoded data removed]",
      "text/plain": [
       "<matplotlib.figure.Figure at 0x99a7c88>"
      ]
     },
     "metadata": {},
     "output_type": "display_data"
    }
   ],
   "source": [
    "fig = matplotlib.pyplot.gcf()\n",
    "fig.set_size_inches(16, 16)\n",
    "\n",
    "## asdf \n",
    "index = 1\n",
    "out_seq = get_outcome_seq(\"high\", \"model\", \"ballistic\")[index]\n",
    "\n",
    "plt.subplot(321)\n",
    "plot_sequence(out_seq, title = \"Dyad \"+ str(index) + \" outcomes\")\n",
    "\n",
    "num_back = 2\n",
    "\n",
    "matplotlib.rcParams.update({'font.size': 12})\n",
    "plt.subplot(323)\n",
    "plot(get_surprise_ts(out_seq))\n",
    "plt.ylim([0, 3.5])\n",
    "plt.ylabel(\"Surprisal(bits)\")\n",
    "plt.xlim([0, 50])\n",
    "plt.xlabel(\"Rounds\")\n",
    "\n",
    "plt.subplot(325)\n",
    "plt.hist(get_surprise_ts(out_seq), range = (0, 3), normed=True)\n",
    "plt.ylim([0,4])\n",
    "plt.xlabel(\"Surprisal (bits)\")\n",
    "plt.ylabel(\"Frequency\")\n",
    "\n",
    "subplots_adjust(wspace=0.1, hspace=0.25)\n",
    "plt.savefig(\"../data/figures/S5_Fig.tiff\")"
   ]
  }
 ],
 "metadata": {
  "anaconda-cloud": {},
  "kernelspec": {
   "display_name": "Python [conda env:python2]",
   "language": "python",
   "name": "conda-env-python2-py"
  },
  "language_info": {
   "codemirror_mode": {
    "name": "ipython",
    "version": 2
   },
   "file_extension": ".py",
   "mimetype": "text/x-python",
   "name": "python",
   "nbconvert_exporter": "python",
   "pygments_lexer": "ipython2",
   "version": "2.7.13"
  }
 },
 "nbformat": 4,
 "nbformat_minor": 1
}
