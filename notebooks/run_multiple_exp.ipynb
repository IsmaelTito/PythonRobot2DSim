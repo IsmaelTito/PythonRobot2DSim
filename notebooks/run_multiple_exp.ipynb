{
 "cells": [
  {
   "cell_type": "code",
   "execution_count": null,
   "metadata": {
    "collapsed": false
   },
   "outputs": [],
   "source": [
    "from mynotebooks import *\n",
    "%matplotlib inline\n",
    "sys.path.append('..')\n",
    "from config import *\n",
    "from isma_expsetup import *"
   ]
  },
  {
   "cell_type": "code",
   "execution_count": null,
   "metadata": {
    "collapsed": false
   },
   "outputs": [],
   "source": [
    "# choose the basic parameters of the experimental setup\n",
    "# order: epuck_error, reward_error, epuck_exp, reward_exp, reward_constant, reward_area\n",
    "    # old dataset1 stable parameters(0.05, 0.025, 4.5, 2.85, 0.75, 0.675, 0.80)\n",
    "    # old dataset2b stable parameters(0.05, 0.025, 5.3, 2.2, 0.75, 0.675, 0.85)\n",
    "    # old dataset3 stable set_parameters(0.05, 0.025, 4.50, 2.25, 0.75, 0.675, 0.85)\n",
    "    # new stable set_parameters(0.05, 0.025, 4, 2.25, 0.75, 0.675, 0.80)\n",
    "\n",
    "set_parameters(0.05, 0.025, 4.4, 3, 0.75, 0.675, 0.80)\n",
    "# to try\n",
    "# 6b: set_parameters(0.05, 0.025, 3.75, 2.50, 0.75, 0.675, 0.80) with 0.85 avoid\n",
    "# 7f: set_parameters(0.05, 0.025, 4.4, 3, 0.75, 0.675, 0.80) with 0.85 avoid"
   ]
  },
  {
   "cell_type": "code",
   "execution_count": null,
   "metadata": {
    "collapsed": false
   },
   "outputs": [],
   "source": [
    "# initialize the variables that will gather the basic data of each experiment\n",
    "timeouts = 0\n",
    "p1_wins = 0\n",
    "p2_wins = 0\n",
    "ties = 0"
   ]
  },
  {
   "cell_type": "markdown",
   "metadata": {},
   "source": [
    "# Run one Dyad"
   ]
  },
  {
   "cell_type": "code",
   "execution_count": null,
   "metadata": {
    "collapsed": false
   },
   "outputs": [],
   "source": [
    "# code for running just one experiment with a variable number of rounds \n",
    "# high condition - 50 rounds\n",
    "# low condition - 60 rounds\n",
    "\n",
    "exp = IsmaExpSetup(n=2, rounds=50, payoff=\"high\", contextual=False, debug=True)\n",
    "#exp = IsmaExpSetup(n=2, rounds=60, payoff=\"low\", contextual=False, debug=True)\n",
    "\n",
    "while (exp.round_n <= exp.total_rounds):\n",
    "    Box2DWorld.step()\n",
    "    exp.update()\n",
    "    \n",
    "timeouts += i.timeout_n\n",
    "p1_wins += i.player1_wins\n",
    "p2_wins += i.player2_wins\n",
    "ties += i.ties_n"
   ]
  },
  {
   "cell_type": "code",
   "execution_count": null,
   "metadata": {
    "collapsed": false
   },
   "outputs": [],
   "source": [
    "print \"Timeouts:\", timeouts, \"; Player1 Wins:\", p1_wins, \"; Player2 Wins:\", p2_wins, \"; Ties:\", ties"
   ]
  },
  {
   "cell_type": "markdown",
   "metadata": {},
   "source": [
    "# Run multiple Dyads"
   ]
  },
  {
   "cell_type": "code",
   "execution_count": null,
   "metadata": {
    "collapsed": false
   },
   "outputs": [],
   "source": [
    "# code for running multiple experiments at once\n",
    "# change the \"range\" value to select the number of experiments you want to perform\n",
    "# change the \"rounds\" value to decide the number of rounds of each experiment\n",
    "    # high condition - 50 rounds\n",
    "    # low condition - 60 rounds\n",
    "\n",
    "for i in range(25):\n",
    "    #OLD version - i = IsmaExpSetup(n=2, rounds=50, payoff=\"low\", debug=True)\n",
    "    #i = IsmaExpSetup(n=2, rounds=50, payoff=\"high\", contextual=True, debug=True)\n",
    "    i = IsmaExpSetup(n=2, rounds=60, payoff=\"low\", contextual=True, debug=True)\n",
    "    # REMEMBER : low condition - 60 rounds\n",
    "    while (i.round_n <= i.total_rounds):\n",
    "        Box2DWorld.step()\n",
    "        i.update()\n",
    "    timeouts += i.timeout_n\n",
    "    p1_wins += i.player1_wins\n",
    "    p2_wins += i.player2_wins\n",
    "    ties += i.ties_n"
   ]
  },
  {
   "cell_type": "code",
   "execution_count": null,
   "metadata": {
    "collapsed": false,
    "scrolled": true
   },
   "outputs": [],
   "source": [
    "print \"Timeouts:\", timeouts, \"; Player1 Wins:\", p1_wins, \"; Player2 Wins:\", p2_wins, \"; Ties:\", ties"
   ]
  },
  {
   "cell_type": "code",
   "execution_count": null,
   "metadata": {
    "collapsed": true
   },
   "outputs": [],
   "source": []
  }
 ],
 "metadata": {
  "anaconda-cloud": {},
  "kernelspec": {
   "display_name": "Python [conda env:python2]",
   "language": "python",
   "name": "conda-env-python2-py"
  },
  "language_info": {
   "codemirror_mode": {
    "name": "ipython",
    "version": 2
   },
   "file_extension": ".py",
   "mimetype": "text/x-python",
   "name": "python",
   "nbconvert_exporter": "python",
   "pygments_lexer": "ipython2",
   "version": "2.7.13"
  }
 },
 "nbformat": 4,
 "nbformat_minor": 0
}
