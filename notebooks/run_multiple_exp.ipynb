{
 "cells": [
  {
   "cell_type": "code",
   "execution_count": null,
   "metadata": {
    "collapsed": false
   },
   "outputs": [],
   "source": [
    "from mynotebooks import *\n",
    "%matplotlib inline\n",
    "sys.path.append('..')  \n",
    "from config import *\n",
    "from isma_expsetup import *"
   ]
  },
  {
   "cell_type": "code",
   "execution_count": null,
   "metadata": {
    "collapsed": false
   },
   "outputs": [],
   "source": [
    "# choose the basic parameters of the experimental setup\n",
    "# order: epuck_error, reward_error, epuck_exp, reward_exp, low_reward_weight, reward_area\n",
    "# old stable parameters(0.05, 0.025, 4.5, 2.85, 0.75, 0.675)\n",
    "set_parameters(0.05, 0.025, 5, 2, 0.75, 0.675)"
   ]
  },
  {
   "cell_type": "code",
   "execution_count": null,
   "metadata": {
    "collapsed": true
   },
   "outputs": [],
   "source": [
    "# initialize the variables that will gather the basic data of each experiment\n",
    "timeouts = 0\n",
    "p1_wins = 0\n",
    "p2_wins = 0\n",
    "ties = 0"
   ]
  },
  {
   "cell_type": "code",
   "execution_count": null,
   "metadata": {
    "collapsed": false
   },
   "outputs": [],
   "source": [
    "# code for running just one experiment with a variable number of rounds \n",
    "# high condition - 50 rounds\n",
    "# low condition - 60 rounds\n",
    "\n",
    "exp = IsmaExpSetup(n=2, rounds=3, payoff=\"high\", debug=True)\n",
    "\n",
    "while (exp.round_n <= exp.total_rounds):\n",
    "    Box2DWorld.step()\n",
    "    exp.update()\n",
    "    \n",
    "timeouts += i.timeout_n\n",
    "p1_wins += i.player1_wins\n",
    "p2_wins += i.player2_wins\n",
    "ties += i.ties_n"
   ]
  },
  {
   "cell_type": "code",
   "execution_count": null,
   "metadata": {
    "collapsed": false
   },
   "outputs": [],
   "source": [
    "print \"Timeouts:\", timeouts, \"; Player1 Wins:\", p1_wins, \"; Player2 Wins:\", p2_wins, \"; Ties:\", ties"
   ]
  },
  {
   "cell_type": "code",
   "execution_count": null,
   "metadata": {
    "collapsed": false,
    "scrolled": true
   },
   "outputs": [],
   "source": [
    "# code for running multiple experiments at once\n",
    "# change the \"range\" value to select the number of experiments you want to perform\n",
    "# change the \"rounds\" value to decide the number of rounds of each experiment\n",
    "\n",
    "for i in range(25): \n",
    "    i = IsmaExpSetup(n=2, rounds=50, payoff=\"low\", debug=True)\n",
    "    \n",
    "    while (i.round_n <= i.total_rounds):\n",
    "        Box2DWorld.step()\n",
    "        i.update()\n",
    "        \n",
    "    timeouts += i.timeout_n\n",
    "    p1_wins += i.player1_wins\n",
    "    p2_wins += i.player2_wins\n",
    "    ties += i.ties_n\n"
   ]
  },
  {
   "cell_type": "code",
   "execution_count": null,
   "metadata": {
    "collapsed": false
   },
   "outputs": [],
   "source": [
    "print \"Timeouts:\", timeouts, \"; Player1 Wins:\", p1_wins, \"; Player2 Wins:\", p2_wins, \"; Ties:\", ties"
   ]
  },
  {
   "cell_type": "code",
   "execution_count": null,
   "metadata": {
    "collapsed": true
   },
   "outputs": [],
   "source": []
  }
 ],
 "metadata": {
  "anaconda-cloud": {},
  "kernelspec": {
   "display_name": "Python [conda env:python2]",
   "language": "python",
   "name": "conda-env-python2-py"
  },
  "language_info": {
   "codemirror_mode": {
    "name": "ipython",
    "version": 2
   },
   "file_extension": ".py",
   "mimetype": "text/x-python",
   "name": "python",
   "nbconvert_exporter": "python",
   "pygments_lexer": "ipython2",
   "version": "2.7.13"
  }
 },
 "nbformat": 4,
 "nbformat_minor": 0
}
