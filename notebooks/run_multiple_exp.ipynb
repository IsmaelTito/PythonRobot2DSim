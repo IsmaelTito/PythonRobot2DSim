{
 "cells": [
  {
   "cell_type": "code",
   "execution_count": 1,
   "metadata": {
    "collapsed": false
   },
   "outputs": [],
   "source": [
    "from mynotebooks import *\n",
    "%matplotlib inline\n",
    "sys.path.append('..')  \n",
    "from config import *\n",
    "from isma_expsetup import *"
   ]
  },
  {
   "cell_type": "code",
   "execution_count": 2,
   "metadata": {
    "collapsed": false
   },
   "outputs": [],
   "source": [
    "# choose the basic parameters of the experimental setup\n",
    "# order: epuck_error, reward_error, epuck_exp, reward_exp, low_reward_weight, reward_area\n",
    "set_parameters(0.05, 0.025, 4.5, 2.85, 0.75, 0.675)"
   ]
  },
  {
   "cell_type": "code",
   "execution_count": 3,
   "metadata": {
    "collapsed": true
   },
   "outputs": [],
   "source": [
    "# initialize the variables that will gather the basic data of each experiment\n",
    "timeouts = 0\n",
    "p1_wins = 0\n",
    "p2_wins = 0\n",
    "ties = 0"
   ]
  },
  {
   "cell_type": "code",
   "execution_count": null,
   "metadata": {
    "collapsed": false
   },
   "outputs": [],
   "source": [
    "# code for running just one experiment with a variable number of rounds \n",
    "# high condition - 50 rounds\n",
    "# low condition - 60 rounds\n",
    "\n",
    "exp = IsmaExpSetup(n=2, rounds=3, payoff=\"high\", debug=True)\n",
    "\n",
    "while (exp.round_n <= exp.total_rounds):\n",
    "    Box2DWorld.step()\n",
    "    exp.update()\n",
    "    \n",
    "timeouts += i.timeout_n\n",
    "p1_wins += i.player1_wins\n",
    "p2_wins += i.player2_wins\n",
    "ties += i.ties_n"
   ]
  },
  {
   "cell_type": "code",
   "execution_count": null,
   "metadata": {
    "collapsed": false
   },
   "outputs": [],
   "source": [
    "print \"Timeouts:\", timeouts, \"; Player1 Wins:\", p1_wins, \"; Player2 Wins:\", p2_wins, \"; Ties:\", ties"
   ]
  },
  {
   "cell_type": "code",
   "execution_count": null,
   "metadata": {
    "collapsed": false,
    "scrolled": true
   },
   "outputs": [
    {
     "name": "stdout",
     "output_type": "stream",
     "text": [
      "-------------------------------------------------\n",
      "Initial parameters: [0.05, 0.025, 4.5, 2.85, 0.75, 0.675]\n",
      "Dyad ID: game_48nkuku2-b468-6dee-7unt-nrgalm6dstfo\n",
      "Payoff Condition: high\n",
      "STARTING ROUND... 1\n",
      "IT'S A TIE !! Both players get 0 points\n",
      "Total Score - Player 1: 0 , Player 2: 0\n",
      "-------------------------------------------------\n",
      "STARTING ROUND... 2\n",
      "IT'S A TIE !! Both players get 0 points\n",
      "Total Score - Player 1: 0 , Player 2: 0\n",
      "-------------------------------------------------\n",
      "STARTING ROUND... 3\n",
      "Player 2 obtained the HIGH Reward !!\n",
      "Total Score - Player 1: 1 , Player 2: 4\n",
      "-------------------------------------------------\n",
      "STARTING ROUND... 4\n",
      "Player 2 obtained the LOW Reward !!\n",
      "Total Score - Player 1: 5 , Player 2: 5\n",
      "-------------------------------------------------\n",
      "STARTING ROUND... 5\n",
      "Player 1 obtained the HIGH Reward !!\n",
      "Total Score - Player 1: 9 , Player 2: 6\n",
      "-------------------------------------------------\n",
      "STARTING ROUND... 6\n",
      "IT'S A TIE !! Both players get 0 points\n",
      "Total Score - Player 1: 9 , Player 2: 6\n",
      "-------------------------------------------------\n",
      "STARTING ROUND... 7\n",
      "Player 2 obtained the HIGH Reward !!\n",
      "Total Score - Player 1: 10 , Player 2: 10\n",
      "-------------------------------------------------\n",
      "STARTING ROUND... 8\n",
      "Player 2 obtained the LOW Reward !!\n",
      "Total Score - Player 1: 14 , Player 2: 11\n",
      "-------------------------------------------------\n",
      "STARTING ROUND... 9\n",
      "Player 1 obtained the LOW Reward !!\n",
      "Total Score - Player 1: 15 , Player 2: 15\n",
      "-------------------------------------------------\n",
      "STARTING ROUND... 10\n",
      "Player 1 obtained the HIGH Reward !!\n",
      "Total Score - Player 1: 19 , Player 2: 16\n",
      "-------------------------------------------------\n",
      "STARTING ROUND... 11\n",
      "Player 1 obtained the HIGH Reward !!\n",
      "Total Score - Player 1: 23 , Player 2: 17\n",
      "-------------------------------------------------\n",
      "STARTING ROUND... 12\n",
      "IT'S A TIE !! Both players get 0 points\n",
      "Total Score - Player 1: 23 , Player 2: 17\n",
      "-------------------------------------------------\n",
      "STARTING ROUND... 13\n",
      "Player 2 obtained the HIGH Reward !!\n",
      "Total Score - Player 1: 24 , Player 2: 21\n",
      "-------------------------------------------------\n",
      "STARTING ROUND... 14\n",
      "IT'S A TIE !! Both players get 0 points\n",
      "Total Score - Player 1: 24 , Player 2: 21\n",
      "-------------------------------------------------\n",
      "STARTING ROUND... 15\n",
      "IT'S A TIE !! Both players get 0 points\n",
      "Total Score - Player 1: 24 , Player 2: 21\n",
      "-------------------------------------------------\n",
      "STARTING ROUND... 16\n",
      "Player 2 obtained the LOW Reward !!\n",
      "Total Score - Player 1: 28 , Player 2: 22\n",
      "-------------------------------------------------\n",
      "STARTING ROUND... 17\n",
      "Player 1 obtained the HIGH Reward !!\n",
      "Total Score - Player 1: 32 , Player 2: 23\n",
      "-------------------------------------------------\n",
      "STARTING ROUND... 18\n",
      "IT'S A TIE !! Both players get 0 points\n",
      "Total Score - Player 1: 32 , Player 2: 23\n",
      "-------------------------------------------------\n",
      "STARTING ROUND... 19\n",
      "Player 1 obtained the HIGH Reward !!\n",
      "Total Score - Player 1: 36 , Player 2: 24\n",
      "-------------------------------------------------\n",
      "STARTING ROUND... 20\n",
      "Player 2 obtained the LOW Reward !!\n",
      "Total Score - Player 1: 40 , Player 2: 25\n",
      "-------------------------------------------------\n",
      "STARTING ROUND... 21\n",
      "IT'S A TIE !! Both players get 0 points\n",
      "Total Score - Player 1: 40 , Player 2: 25\n",
      "-------------------------------------------------\n",
      "STARTING ROUND... 22\n",
      "Player 1 obtained the LOW Reward !!\n",
      "Total Score - Player 1: 41 , Player 2: 29\n",
      "-------------------------------------------------\n",
      "STARTING ROUND... 23\n",
      "Player 2 obtained the HIGH Reward !!\n",
      "Total Score - Player 1: 42 , Player 2: 33\n",
      "-------------------------------------------------\n",
      "STARTING ROUND... 24\n",
      "Player 1 obtained the HIGH Reward !!\n",
      "Total Score - Player 1: 46 , Player 2: 34\n",
      "-------------------------------------------------\n",
      "STARTING ROUND... 25\n",
      "Player 1 obtained the HIGH Reward !!\n",
      "Total Score - Player 1: 50 , Player 2: 35\n",
      "-------------------------------------------------\n",
      "STARTING ROUND... 26\n",
      "IT'S A TIE !! Both players get 0 points\n",
      "Total Score - Player 1: 50 , Player 2: 35\n",
      "-------------------------------------------------\n",
      "STARTING ROUND... 27\n",
      "IT'S A TIE !! Both players get 0 points\n",
      "Total Score - Player 1: 50 , Player 2: 35\n",
      "-------------------------------------------------\n",
      "STARTING ROUND... 28\n",
      "Player 2 obtained the HIGH Reward !!\n",
      "Total Score - Player 1: 51 , Player 2: 39\n",
      "-------------------------------------------------\n",
      "STARTING ROUND... 29\n",
      "IT'S A TIE !! Both players get 0 points\n",
      "Total Score - Player 1: 51 , Player 2: 39\n",
      "-------------------------------------------------\n",
      "STARTING ROUND... 30\n",
      "Player 1 obtained the HIGH Reward !!\n",
      "Total Score - Player 1: 55 , Player 2: 40\n",
      "-------------------------------------------------\n",
      "STARTING ROUND... 31\n"
     ]
    }
   ],
   "source": [
    "# code for running multiple experiments at once\n",
    "# change the \"range\" value to select the number of experiments you want to perform\n",
    "# change the \"rounds\" value to decide the number of rounds of each experiment\n",
    "\n",
    "for i in range(25): \n",
    "    i = IsmaExpSetup(n=2, rounds=50, payoff=\"high\", debug=True)\n",
    "    \n",
    "    while (i.round_n <= i.total_rounds):\n",
    "        Box2DWorld.step()\n",
    "        i.update()\n",
    "        \n",
    "    timeouts += i.timeout_n\n",
    "    p1_wins += i.player1_wins\n",
    "    p2_wins += i.player2_wins\n",
    "    ties += i.ties_n\n"
   ]
  },
  {
   "cell_type": "code",
   "execution_count": null,
   "metadata": {
    "collapsed": false
   },
   "outputs": [],
   "source": [
    "print \"Timeouts:\", timeouts, \"; Player1 Wins:\", p1_wins, \"; Player2 Wins:\", p2_wins, \"; Ties:\", ties"
   ]
  },
  {
   "cell_type": "code",
   "execution_count": null,
   "metadata": {
    "collapsed": true
   },
   "outputs": [],
   "source": []
  }
 ],
 "metadata": {
  "anaconda-cloud": {},
  "kernelspec": {
   "display_name": "Python [conda env:python2]",
   "language": "python",
   "name": "conda-env-python2-py"
  },
  "language_info": {
   "codemirror_mode": {
    "name": "ipython",
    "version": 2
   },
   "file_extension": ".py",
   "mimetype": "text/x-python",
   "name": "python",
   "nbconvert_exporter": "python",
   "pygments_lexer": "ipython2",
   "version": "2.7.13"
  }
 },
 "nbformat": 4,
 "nbformat_minor": 0
}
