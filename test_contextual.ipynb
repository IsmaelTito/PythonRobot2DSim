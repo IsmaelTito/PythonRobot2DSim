{
 "cells": [
  {
   "cell_type": "markdown",
   "metadata": {
    "collapsed": true
   },
   "source": [
    "# Run Contextual Only"
   ]
  },
  {
   "cell_type": "code",
   "execution_count": 1,
   "metadata": {
    "collapsed": false
   },
   "outputs": [],
   "source": [
    "#  Don't use this in your code, this is just for producing the statistics of the contextual layer alone.\n",
    "\n",
    "from collections import defaultdict\n",
    "from numpy import array\n",
    "\n",
    "from contextual_layer.experiment import make_experiment\n",
    "import numpy as np\n",
    "\n",
    "payoff_conditions = [\"low\", \"high\"]\n",
    "\n",
    "efficiencies = defaultdict(list)\n",
    "fairnesses = defaultdict(list)\n",
    "\n",
    "for payoff in payoff_conditions:\n",
    "    for n in range(50):\n",
    "        rounds = 50 if payoff == \"high\" else 60\n",
    "        experiment, task = make_experiment(payoff)\n",
    "        experiment.run(debug=False, n=rounds)\n",
    "        rew_hist = array(experiment.logger.get_log(\"rew_hist\"))\n",
    "        num_high_rewards = (rew_hist == task.high_rew).astype(float).sum(axis=0)\n",
    "        efficiency = rew_hist.sum() / (rew_hist.shape[0] * (task.low_rew + task.high_rew))\n",
    "        fairness = min(num_high_rewards) / max(num_high_rewards)\n",
    "        efficiencies[payoff].append(efficiency)\n",
    "        fairnesses[payoff].append(fairness)\n",
    "        np.save('game_' + str(n) + '_' + str(payoff), rew_hist)\n",
    "        #print efficiencies, fairnesses"
   ]
  },
  {
   "cell_type": "code",
   "execution_count": 3,
   "metadata": {
    "collapsed": false,
    "scrolled": true
   },
   "outputs": [
    {
     "name": "stdout",
     "output_type": "stream",
     "text": [
      "Populating the interactive namespace from numpy and matplotlib\n"
     ]
    },
    {
     "data": {
      "text/plain": [
       "<matplotlib.legend.Legend at 0x94fd470>"
      ]
     },
     "execution_count": 3,
     "metadata": {},
     "output_type": "execute_result"
    },
    {
     "data": {
      "image/png": "[encoded data removed]",
      "text/plain": [
       "<matplotlib.figure.Figure at 0x94fd630>"
      ]
     },
     "metadata": {},
     "output_type": "display_data"
    }
   ],
   "source": [
    "# Plotting stats for efficiency and fairness\n",
    "\n",
    "%pylab inline\n",
    "for payoff in payoff_conditions:\n",
    "    rounds = 50 if payoff == \"high\" else 60\n",
    "    errorbar([1, 2], [mean(efficiencies[payoff]), mean(fairnesses[payoff])], [std(efficiencies[payoff])/math.sqrt(rounds), std(fairnesses[payoff])/math.sqrt(rounds)], linestyle='None', marker='o')\n",
    "axis([0, 3, 0, 1])\n",
    "\n",
    "legend(payoff_conditions)"
   ]
  },
  {
   "cell_type": "code",
   "execution_count": null,
   "metadata": {
    "collapsed": true
   },
   "outputs": [],
   "source": [
    "print rew_hist"
   ]
  },
  {
   "cell_type": "markdown",
   "metadata": {},
   "source": [
    "# To add on the Epucks' Reactive Version"
   ]
  },
  {
   "cell_type": "code",
   "execution_count": null,
   "metadata": {
    "collapsed": false
   },
   "outputs": [],
   "source": [
    "from contextual_layer import ValueLearning, PolicyLearning, ContextualLayer\n",
    "\n",
    "\n",
    "n_states = 3   # Low, High, Tie\n",
    "n_actions = 2  # to_the_low, to_the_high\n",
    "value = ValueLearning(n_states)\n",
    "policy = PolicyLearning(n_states, n_actions)\n",
    "contextual_layer = ContextualLayer(value, policy)"
   ]
  },
  {
   "cell_type": "code",
   "execution_count": null,
   "metadata": {
    "collapsed": false
   },
   "outputs": [],
   "source": [
    "state = 1   # High\n",
    "action = contextual_layer.act(state)\n",
    "print action\n",
    "reward = 0.0   # This will be provided by the task\n",
    "contextual_layer.update(state, reward, action)"
   ]
  },
  {
   "cell_type": "code",
   "execution_count": null,
   "metadata": {
    "collapsed": true
   },
   "outputs": [],
   "source": []
  }
 ],
 "metadata": {
  "anaconda-cloud": {},
  "kernelspec": {
   "display_name": "Python 2",
   "language": "python",
   "name": "python2"
  },
  "language_info": {
   "codemirror_mode": {
    "name": "ipython",
    "version": 2
   },
   "file_extension": ".py",
   "mimetype": "text/x-python",
   "name": "python",
   "nbconvert_exporter": "python",
   "pygments_lexer": "ipython2",
   "version": "2.7.13"
  }
 },
 "nbformat": 4,
 "nbformat_minor": 0
}
